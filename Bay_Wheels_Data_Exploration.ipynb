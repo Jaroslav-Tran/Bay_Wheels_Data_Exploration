{
 "cells": [
  {
   "cell_type": "markdown",
   "metadata": {},
   "source": [
    "#  Bay Wheels's trip data - 2019 Analysis\n",
    "## by Jaroslav Tran"
   ]
  },
  {
   "cell_type": "markdown",
   "metadata": {},
   "source": [
    "## Investigation Overview\n",
    "### Introduction\n",
    "Bay Wheels is a regional public bicycle sharing system in the San Francisco Bay Area, California operated by Motivate in a partnership with the Metropolitan Transportation Commission and the Bay Area Air Quality Management District. Bay Wheels is the first regional and large-scale bicycle sharing system deployed in California and on the West Coast of the United States (source: Wikipedia)\n",
    "\n",
    "### Goal\n",
    "The overall goal of this presentation is to explore a FordBike 2019 dataset and showcase key differences between two User Types of this service: Customers and Subscribers.\n",
    "\n",
    "### Dataset Overview\n",
    "\n",
    "The dataset contains BayWheels trip data available for public use. It contains over 2.5M data points and 15 variables for the year of 2019. To aggregate it, I needed to download datasets for each month in 2019 and merge them together into a master dataset. The monthly datasets are available here: https://www.lyft.com/bikes/bay-wheels/system-data."
   ]
  },
  {
   "cell_type": "code",
   "execution_count": 1,
   "metadata": {},
   "outputs": [],
   "source": [
    "# import all packages and set plots to be embedded inline\n",
    "import numpy as np\n",
    "import pandas as pd\n",
    "import matplotlib.pyplot as plt\n",
    "%matplotlib inline\n",
    "import seaborn as sb\n",
    "import glob\n",
    "import os\n",
    "import datetime"
   ]
  },
  {
   "cell_type": "markdown",
   "metadata": {},
   "source": [
    "## 1. Data Gathering"
   ]
  },
  {
   "cell_type": "code",
   "execution_count": 2,
   "metadata": {},
   "outputs": [
    {
     "name": "stderr",
     "output_type": "stream",
     "text": [
      "C:\\Users\\Jaroslav Tran\\Anaconda3\\lib\\site-packages\\ipykernel_launcher.py:5: DtypeWarning: Columns (14) have mixed types. Specify dtype option on import or set low_memory=False.\n",
      "  \"\"\"\n",
      "C:\\Users\\Jaroslav Tran\\Anaconda3\\lib\\site-packages\\ipykernel_launcher.py:5: DtypeWarning: Columns (13,14) have mixed types. Specify dtype option on import or set low_memory=False.\n",
      "  \"\"\"\n",
      "C:\\Users\\Jaroslav Tran\\Anaconda3\\lib\\site-packages\\ipykernel_launcher.py:5: FutureWarning: Sorting because non-concatenation axis is not aligned. A future version\n",
      "of pandas will change to not sort by default.\n",
      "\n",
      "To accept the future behavior, pass 'sort=False'.\n",
      "\n",
      "To retain the current behavior and silence the warning, pass 'sort=True'.\n",
      "\n",
      "  \"\"\"\n"
     ]
    }
   ],
   "source": [
    "path = r'C:\\Users\\Jaroslav Tran\\Desktop\\Analytical Skills\\Udacity Data Analyst Nano Degree\\P5-Data Vizualization\\FordGoBikeData\\2019'\n",
    "\n",
    "files = glob.glob(os.path.join(path, \"*.csv\"))\n",
    "\n",
    "df = pd.concat((pd.read_csv(f) for f in files), ignore_index = True, )\n",
    "\n",
    "df.to_csv('fordgobikedata_master.csv', index = False)"
   ]
  },
  {
   "cell_type": "code",
   "execution_count": 3,
   "metadata": {},
   "outputs": [],
   "source": [
    "df = pd.read_csv('fordgobikedata_master.csv', low_memory=False)"
   ]
  },
  {
   "cell_type": "markdown",
   "metadata": {},
   "source": [
    "## 2. Data Assessment"
   ]
  },
  {
   "cell_type": "code",
   "execution_count": 4,
   "metadata": {},
   "outputs": [
    {
     "data": {
      "text/plain": [
       "(2506983, 15)"
      ]
     },
     "execution_count": 4,
     "metadata": {},
     "output_type": "execute_result"
    }
   ],
   "source": [
    "df.shape"
   ]
  },
  {
   "cell_type": "code",
   "execution_count": 5,
   "metadata": {},
   "outputs": [
    {
     "data": {
      "text/html": [
       "<div>\n",
       "<style scoped>\n",
       "    .dataframe tbody tr th:only-of-type {\n",
       "        vertical-align: middle;\n",
       "    }\n",
       "\n",
       "    .dataframe tbody tr th {\n",
       "        vertical-align: top;\n",
       "    }\n",
       "\n",
       "    .dataframe thead th {\n",
       "        text-align: right;\n",
       "    }\n",
       "</style>\n",
       "<table border=\"1\" class=\"dataframe\">\n",
       "  <thead>\n",
       "    <tr style=\"text-align: right;\">\n",
       "      <th></th>\n",
       "      <th>bike_id</th>\n",
       "      <th>bike_share_for_all_trip</th>\n",
       "      <th>duration_sec</th>\n",
       "      <th>end_station_id</th>\n",
       "      <th>end_station_latitude</th>\n",
       "      <th>end_station_longitude</th>\n",
       "      <th>end_station_name</th>\n",
       "      <th>end_time</th>\n",
       "      <th>rental_access_method</th>\n",
       "      <th>start_station_id</th>\n",
       "      <th>start_station_latitude</th>\n",
       "      <th>start_station_longitude</th>\n",
       "      <th>start_station_name</th>\n",
       "      <th>start_time</th>\n",
       "      <th>user_type</th>\n",
       "    </tr>\n",
       "  </thead>\n",
       "  <tbody>\n",
       "    <tr>\n",
       "      <th>2506973</th>\n",
       "      <td>551068</td>\n",
       "      <td>NaN</td>\n",
       "      <td>2336</td>\n",
       "      <td>NaN</td>\n",
       "      <td>37.829645</td>\n",
       "      <td>-122.483233</td>\n",
       "      <td>NaN</td>\n",
       "      <td>2019-12-28 15:28:15</td>\n",
       "      <td>app</td>\n",
       "      <td>NaN</td>\n",
       "      <td>37.809270</td>\n",
       "      <td>-122.475898</td>\n",
       "      <td>NaN</td>\n",
       "      <td>2019-12-28 14:49:19</td>\n",
       "      <td>Subscriber</td>\n",
       "    </tr>\n",
       "    <tr>\n",
       "      <th>2506974</th>\n",
       "      <td>593917</td>\n",
       "      <td>NaN</td>\n",
       "      <td>2297</td>\n",
       "      <td>NaN</td>\n",
       "      <td>37.829634</td>\n",
       "      <td>-122.483242</td>\n",
       "      <td>NaN</td>\n",
       "      <td>2019-12-28 15:27:34</td>\n",
       "      <td>app</td>\n",
       "      <td>NaN</td>\n",
       "      <td>37.809275</td>\n",
       "      <td>-122.475875</td>\n",
       "      <td>NaN</td>\n",
       "      <td>2019-12-28 14:49:17</td>\n",
       "      <td>Subscriber</td>\n",
       "    </tr>\n",
       "    <tr>\n",
       "      <th>2506975</th>\n",
       "      <td>326273</td>\n",
       "      <td>NaN</td>\n",
       "      <td>1816</td>\n",
       "      <td>NaN</td>\n",
       "      <td>37.776921</td>\n",
       "      <td>-122.419472</td>\n",
       "      <td>NaN</td>\n",
       "      <td>2019-12-27 18:28:40</td>\n",
       "      <td>app</td>\n",
       "      <td>NaN</td>\n",
       "      <td>37.809291</td>\n",
       "      <td>-122.414682</td>\n",
       "      <td>NaN</td>\n",
       "      <td>2019-12-27 17:58:23</td>\n",
       "      <td>Subscriber</td>\n",
       "    </tr>\n",
       "    <tr>\n",
       "      <th>2506976</th>\n",
       "      <td>607037</td>\n",
       "      <td>NaN</td>\n",
       "      <td>687</td>\n",
       "      <td>NaN</td>\n",
       "      <td>37.807259</td>\n",
       "      <td>-122.410570</td>\n",
       "      <td>NaN</td>\n",
       "      <td>2019-12-24 18:32:47</td>\n",
       "      <td>app</td>\n",
       "      <td>NaN</td>\n",
       "      <td>37.809576</td>\n",
       "      <td>-122.412358</td>\n",
       "      <td>NaN</td>\n",
       "      <td>2019-12-24 18:21:20</td>\n",
       "      <td>Customer</td>\n",
       "    </tr>\n",
       "    <tr>\n",
       "      <th>2506977</th>\n",
       "      <td>167109</td>\n",
       "      <td>NaN</td>\n",
       "      <td>711</td>\n",
       "      <td>NaN</td>\n",
       "      <td>37.807330</td>\n",
       "      <td>-122.410621</td>\n",
       "      <td>NaN</td>\n",
       "      <td>2019-12-24 18:33:33</td>\n",
       "      <td>app</td>\n",
       "      <td>NaN</td>\n",
       "      <td>37.809578</td>\n",
       "      <td>-122.412348</td>\n",
       "      <td>NaN</td>\n",
       "      <td>2019-12-24 18:21:41</td>\n",
       "      <td>Customer</td>\n",
       "    </tr>\n",
       "    <tr>\n",
       "      <th>2506978</th>\n",
       "      <td>719651</td>\n",
       "      <td>NaN</td>\n",
       "      <td>731</td>\n",
       "      <td>NaN</td>\n",
       "      <td>37.807573</td>\n",
       "      <td>-122.421681</td>\n",
       "      <td>NaN</td>\n",
       "      <td>2019-12-28 18:49:40</td>\n",
       "      <td>app</td>\n",
       "      <td>NaN</td>\n",
       "      <td>37.809731</td>\n",
       "      <td>-122.409855</td>\n",
       "      <td>NaN</td>\n",
       "      <td>2019-12-28 18:37:29</td>\n",
       "      <td>Subscriber</td>\n",
       "    </tr>\n",
       "    <tr>\n",
       "      <th>2506979</th>\n",
       "      <td>655411</td>\n",
       "      <td>NaN</td>\n",
       "      <td>748</td>\n",
       "      <td>NaN</td>\n",
       "      <td>37.807558</td>\n",
       "      <td>-122.421638</td>\n",
       "      <td>NaN</td>\n",
       "      <td>2019-12-28 18:49:53</td>\n",
       "      <td>app</td>\n",
       "      <td>NaN</td>\n",
       "      <td>37.809768</td>\n",
       "      <td>-122.409797</td>\n",
       "      <td>NaN</td>\n",
       "      <td>2019-12-28 18:37:24</td>\n",
       "      <td>Subscriber</td>\n",
       "    </tr>\n",
       "    <tr>\n",
       "      <th>2506980</th>\n",
       "      <td>936881</td>\n",
       "      <td>NaN</td>\n",
       "      <td>1044</td>\n",
       "      <td>NaN</td>\n",
       "      <td>37.807225</td>\n",
       "      <td>-122.408850</td>\n",
       "      <td>NaN</td>\n",
       "      <td>2019-12-26 14:43:02</td>\n",
       "      <td>app</td>\n",
       "      <td>NaN</td>\n",
       "      <td>37.810183</td>\n",
       "      <td>-122.410271</td>\n",
       "      <td>NaN</td>\n",
       "      <td>2019-12-26 14:25:37</td>\n",
       "      <td>Subscriber</td>\n",
       "    </tr>\n",
       "    <tr>\n",
       "      <th>2506981</th>\n",
       "      <td>397539</td>\n",
       "      <td>NaN</td>\n",
       "      <td>326</td>\n",
       "      <td>NaN</td>\n",
       "      <td>37.803143</td>\n",
       "      <td>-122.414373</td>\n",
       "      <td>NaN</td>\n",
       "      <td>2019-12-30 20:41:09</td>\n",
       "      <td>app</td>\n",
       "      <td>NaN</td>\n",
       "      <td>37.810471</td>\n",
       "      <td>-122.417386</td>\n",
       "      <td>NaN</td>\n",
       "      <td>2019-12-30 20:35:43</td>\n",
       "      <td>Subscriber</td>\n",
       "    </tr>\n",
       "    <tr>\n",
       "      <th>2506982</th>\n",
       "      <td>662304</td>\n",
       "      <td>NaN</td>\n",
       "      <td>4023</td>\n",
       "      <td>NaN</td>\n",
       "      <td>37.810970</td>\n",
       "      <td>-122.418054</td>\n",
       "      <td>NaN</td>\n",
       "      <td>2019-12-31 20:33:52</td>\n",
       "      <td>app</td>\n",
       "      <td>NaN</td>\n",
       "      <td>37.811042</td>\n",
       "      <td>-122.418149</td>\n",
       "      <td>NaN</td>\n",
       "      <td>2019-12-31 19:26:48</td>\n",
       "      <td>Subscriber</td>\n",
       "    </tr>\n",
       "  </tbody>\n",
       "</table>\n",
       "</div>"
      ],
      "text/plain": [
       "         bike_id bike_share_for_all_trip  duration_sec  end_station_id  \\\n",
       "2506973   551068                     NaN          2336             NaN   \n",
       "2506974   593917                     NaN          2297             NaN   \n",
       "2506975   326273                     NaN          1816             NaN   \n",
       "2506976   607037                     NaN           687             NaN   \n",
       "2506977   167109                     NaN           711             NaN   \n",
       "2506978   719651                     NaN           731             NaN   \n",
       "2506979   655411                     NaN           748             NaN   \n",
       "2506980   936881                     NaN          1044             NaN   \n",
       "2506981   397539                     NaN           326             NaN   \n",
       "2506982   662304                     NaN          4023             NaN   \n",
       "\n",
       "         end_station_latitude  end_station_longitude end_station_name  \\\n",
       "2506973             37.829645            -122.483233              NaN   \n",
       "2506974             37.829634            -122.483242              NaN   \n",
       "2506975             37.776921            -122.419472              NaN   \n",
       "2506976             37.807259            -122.410570              NaN   \n",
       "2506977             37.807330            -122.410621              NaN   \n",
       "2506978             37.807573            -122.421681              NaN   \n",
       "2506979             37.807558            -122.421638              NaN   \n",
       "2506980             37.807225            -122.408850              NaN   \n",
       "2506981             37.803143            -122.414373              NaN   \n",
       "2506982             37.810970            -122.418054              NaN   \n",
       "\n",
       "                    end_time rental_access_method  start_station_id  \\\n",
       "2506973  2019-12-28 15:28:15                  app               NaN   \n",
       "2506974  2019-12-28 15:27:34                  app               NaN   \n",
       "2506975  2019-12-27 18:28:40                  app               NaN   \n",
       "2506976  2019-12-24 18:32:47                  app               NaN   \n",
       "2506977  2019-12-24 18:33:33                  app               NaN   \n",
       "2506978  2019-12-28 18:49:40                  app               NaN   \n",
       "2506979  2019-12-28 18:49:53                  app               NaN   \n",
       "2506980  2019-12-26 14:43:02                  app               NaN   \n",
       "2506981  2019-12-30 20:41:09                  app               NaN   \n",
       "2506982  2019-12-31 20:33:52                  app               NaN   \n",
       "\n",
       "         start_station_latitude  start_station_longitude start_station_name  \\\n",
       "2506973               37.809270              -122.475898                NaN   \n",
       "2506974               37.809275              -122.475875                NaN   \n",
       "2506975               37.809291              -122.414682                NaN   \n",
       "2506976               37.809576              -122.412358                NaN   \n",
       "2506977               37.809578              -122.412348                NaN   \n",
       "2506978               37.809731              -122.409855                NaN   \n",
       "2506979               37.809768              -122.409797                NaN   \n",
       "2506980               37.810183              -122.410271                NaN   \n",
       "2506981               37.810471              -122.417386                NaN   \n",
       "2506982               37.811042              -122.418149                NaN   \n",
       "\n",
       "                  start_time   user_type  \n",
       "2506973  2019-12-28 14:49:19  Subscriber  \n",
       "2506974  2019-12-28 14:49:17  Subscriber  \n",
       "2506975  2019-12-27 17:58:23  Subscriber  \n",
       "2506976  2019-12-24 18:21:20    Customer  \n",
       "2506977  2019-12-24 18:21:41    Customer  \n",
       "2506978  2019-12-28 18:37:29  Subscriber  \n",
       "2506979  2019-12-28 18:37:24  Subscriber  \n",
       "2506980  2019-12-26 14:25:37  Subscriber  \n",
       "2506981  2019-12-30 20:35:43  Subscriber  \n",
       "2506982  2019-12-31 19:26:48  Subscriber  "
      ]
     },
     "execution_count": 5,
     "metadata": {},
     "output_type": "execute_result"
    }
   ],
   "source": [
    "df.tail(10)"
   ]
  },
  {
   "cell_type": "code",
   "execution_count": 6,
   "metadata": {},
   "outputs": [
    {
     "data": {
      "text/html": [
       "<div>\n",
       "<style scoped>\n",
       "    .dataframe tbody tr th:only-of-type {\n",
       "        vertical-align: middle;\n",
       "    }\n",
       "\n",
       "    .dataframe tbody tr th {\n",
       "        vertical-align: top;\n",
       "    }\n",
       "\n",
       "    .dataframe thead th {\n",
       "        text-align: right;\n",
       "    }\n",
       "</style>\n",
       "<table border=\"1\" class=\"dataframe\">\n",
       "  <thead>\n",
       "    <tr style=\"text-align: right;\">\n",
       "      <th></th>\n",
       "      <th>bike_id</th>\n",
       "      <th>bike_share_for_all_trip</th>\n",
       "      <th>duration_sec</th>\n",
       "      <th>end_station_id</th>\n",
       "      <th>end_station_latitude</th>\n",
       "      <th>end_station_longitude</th>\n",
       "      <th>end_station_name</th>\n",
       "      <th>end_time</th>\n",
       "      <th>rental_access_method</th>\n",
       "      <th>start_station_id</th>\n",
       "      <th>start_station_latitude</th>\n",
       "      <th>start_station_longitude</th>\n",
       "      <th>start_station_name</th>\n",
       "      <th>start_time</th>\n",
       "      <th>user_type</th>\n",
       "    </tr>\n",
       "  </thead>\n",
       "  <tbody>\n",
       "    <tr>\n",
       "      <th>445062</th>\n",
       "      <td>1821</td>\n",
       "      <td>No</td>\n",
       "      <td>1460</td>\n",
       "      <td>105.0</td>\n",
       "      <td>37.764285</td>\n",
       "      <td>-122.431804</td>\n",
       "      <td>16th St at Prosper St</td>\n",
       "      <td>2019-03-23 16:18:52.3290</td>\n",
       "      <td>NaN</td>\n",
       "      <td>141.0</td>\n",
       "      <td>37.747998</td>\n",
       "      <td>-122.420219</td>\n",
       "      <td>Valencia St at Cesar Chavez St</td>\n",
       "      <td>2019-03-23 15:54:32.2700</td>\n",
       "      <td>Customer</td>\n",
       "    </tr>\n",
       "    <tr>\n",
       "      <th>1571795</th>\n",
       "      <td>1649</td>\n",
       "      <td>No</td>\n",
       "      <td>752</td>\n",
       "      <td>133.0</td>\n",
       "      <td>37.755213</td>\n",
       "      <td>-122.420975</td>\n",
       "      <td>Valencia St at 22nd St</td>\n",
       "      <td>2019-08-21 22:22:12.4490</td>\n",
       "      <td>NaN</td>\n",
       "      <td>75.0</td>\n",
       "      <td>37.773793</td>\n",
       "      <td>-122.421239</td>\n",
       "      <td>Market St at Franklin St</td>\n",
       "      <td>2019-08-21 22:09:40.3260</td>\n",
       "      <td>Subscriber</td>\n",
       "    </tr>\n",
       "    <tr>\n",
       "      <th>140558</th>\n",
       "      <td>5548</td>\n",
       "      <td>No</td>\n",
       "      <td>347</td>\n",
       "      <td>343.0</td>\n",
       "      <td>37.783172</td>\n",
       "      <td>-122.393572</td>\n",
       "      <td>Bryant St at 2nd St</td>\n",
       "      <td>2019-01-10 19:00:45.8250</td>\n",
       "      <td>NaN</td>\n",
       "      <td>90.0</td>\n",
       "      <td>37.771058</td>\n",
       "      <td>-122.402717</td>\n",
       "      <td>Townsend St at 7th St</td>\n",
       "      <td>2019-01-10 18:54:58.2420</td>\n",
       "      <td>Subscriber</td>\n",
       "    </tr>\n",
       "    <tr>\n",
       "      <th>1981839</th>\n",
       "      <td>10772</td>\n",
       "      <td>No</td>\n",
       "      <td>2106</td>\n",
       "      <td>129.0</td>\n",
       "      <td>37.758862</td>\n",
       "      <td>-122.412544</td>\n",
       "      <td>Harrison St at 20th St</td>\n",
       "      <td>2019-10-25 07:32:38.3560</td>\n",
       "      <td>NaN</td>\n",
       "      <td>435.0</td>\n",
       "      <td>37.729393</td>\n",
       "      <td>-122.386537</td>\n",
       "      <td>Jennings St at Revere Ave</td>\n",
       "      <td>2019-10-25 06:57:32.1870</td>\n",
       "      <td>Customer</td>\n",
       "    </tr>\n",
       "    <tr>\n",
       "      <th>1765235</th>\n",
       "      <td>11418</td>\n",
       "      <td>No</td>\n",
       "      <td>891</td>\n",
       "      <td>66.0</td>\n",
       "      <td>37.778742</td>\n",
       "      <td>-122.392741</td>\n",
       "      <td>3rd St at Townsend St</td>\n",
       "      <td>2019-09-24 08:25:25.8990</td>\n",
       "      <td>NaN</td>\n",
       "      <td>15.0</td>\n",
       "      <td>37.795392</td>\n",
       "      <td>-122.394203</td>\n",
       "      <td>San Francisco Ferry Building (Harry Bridges Pl...</td>\n",
       "      <td>2019-09-24 08:10:34.1580</td>\n",
       "      <td>Customer</td>\n",
       "    </tr>\n",
       "    <tr>\n",
       "      <th>462713</th>\n",
       "      <td>4035</td>\n",
       "      <td>Yes</td>\n",
       "      <td>469</td>\n",
       "      <td>327.0</td>\n",
       "      <td>37.332039</td>\n",
       "      <td>-121.881766</td>\n",
       "      <td>5th St at San Salvador St</td>\n",
       "      <td>2019-03-21 10:58:37.6830</td>\n",
       "      <td>NaN</td>\n",
       "      <td>299.0</td>\n",
       "      <td>37.323678</td>\n",
       "      <td>-121.874119</td>\n",
       "      <td>Bestor Art Park</td>\n",
       "      <td>2019-03-21 10:50:48.2400</td>\n",
       "      <td>Subscriber</td>\n",
       "    </tr>\n",
       "    <tr>\n",
       "      <th>2273</th>\n",
       "      <td>426</td>\n",
       "      <td>No</td>\n",
       "      <td>256</td>\n",
       "      <td>158.0</td>\n",
       "      <td>37.833279</td>\n",
       "      <td>-122.263490</td>\n",
       "      <td>Shattuck Ave at Telegraph Ave</td>\n",
       "      <td>2019-01-31 18:19:51.5120</td>\n",
       "      <td>NaN</td>\n",
       "      <td>176.0</td>\n",
       "      <td>37.828410</td>\n",
       "      <td>-122.266315</td>\n",
       "      <td>MacArthur BART Station</td>\n",
       "      <td>2019-01-31 18:15:34.6310</td>\n",
       "      <td>Subscriber</td>\n",
       "    </tr>\n",
       "    <tr>\n",
       "      <th>617538</th>\n",
       "      <td>1375</td>\n",
       "      <td>No</td>\n",
       "      <td>420</td>\n",
       "      <td>123.0</td>\n",
       "      <td>37.760594</td>\n",
       "      <td>-122.414817</td>\n",
       "      <td>Folsom St at 19th St</td>\n",
       "      <td>2019-03-03 15:25:23.4570</td>\n",
       "      <td>NaN</td>\n",
       "      <td>136.0</td>\n",
       "      <td>37.754436</td>\n",
       "      <td>-122.404364</td>\n",
       "      <td>23rd St at San Bruno Ave</td>\n",
       "      <td>2019-03-03 15:18:23.4190</td>\n",
       "      <td>Customer</td>\n",
       "    </tr>\n",
       "    <tr>\n",
       "      <th>1207797</th>\n",
       "      <td>877</td>\n",
       "      <td>No</td>\n",
       "      <td>932</td>\n",
       "      <td>3.0</td>\n",
       "      <td>37.786375</td>\n",
       "      <td>-122.404904</td>\n",
       "      <td>Powell St BART Station (Market St at 4th St)</td>\n",
       "      <td>2019-06-06 09:46:02.5450</td>\n",
       "      <td>NaN</td>\n",
       "      <td>122.0</td>\n",
       "      <td>37.760299</td>\n",
       "      <td>-122.418892</td>\n",
       "      <td>19th St at Mission St</td>\n",
       "      <td>2019-06-06 09:30:29.9880</td>\n",
       "      <td>Subscriber</td>\n",
       "    </tr>\n",
       "    <tr>\n",
       "      <th>1934084</th>\n",
       "      <td>12191</td>\n",
       "      <td>No</td>\n",
       "      <td>109</td>\n",
       "      <td>21.0</td>\n",
       "      <td>37.789625</td>\n",
       "      <td>-122.400811</td>\n",
       "      <td>Montgomery St BART Station (Market St at 2nd St)</td>\n",
       "      <td>2019-10-31 17:29:11.6080</td>\n",
       "      <td>NaN</td>\n",
       "      <td>25.0</td>\n",
       "      <td>37.786928</td>\n",
       "      <td>-122.398113</td>\n",
       "      <td>Howard St at 2nd St</td>\n",
       "      <td>2019-10-31 17:27:22.4400</td>\n",
       "      <td>Subscriber</td>\n",
       "    </tr>\n",
       "  </tbody>\n",
       "</table>\n",
       "</div>"
      ],
      "text/plain": [
       "         bike_id bike_share_for_all_trip  duration_sec  end_station_id  \\\n",
       "445062      1821                      No          1460           105.0   \n",
       "1571795     1649                      No           752           133.0   \n",
       "140558      5548                      No           347           343.0   \n",
       "1981839    10772                      No          2106           129.0   \n",
       "1765235    11418                      No           891            66.0   \n",
       "462713      4035                     Yes           469           327.0   \n",
       "2273         426                      No           256           158.0   \n",
       "617538      1375                      No           420           123.0   \n",
       "1207797      877                      No           932             3.0   \n",
       "1934084    12191                      No           109            21.0   \n",
       "\n",
       "         end_station_latitude  end_station_longitude  \\\n",
       "445062              37.764285            -122.431804   \n",
       "1571795             37.755213            -122.420975   \n",
       "140558              37.783172            -122.393572   \n",
       "1981839             37.758862            -122.412544   \n",
       "1765235             37.778742            -122.392741   \n",
       "462713              37.332039            -121.881766   \n",
       "2273                37.833279            -122.263490   \n",
       "617538              37.760594            -122.414817   \n",
       "1207797             37.786375            -122.404904   \n",
       "1934084             37.789625            -122.400811   \n",
       "\n",
       "                                         end_station_name  \\\n",
       "445062                              16th St at Prosper St   \n",
       "1571795                            Valencia St at 22nd St   \n",
       "140558                                Bryant St at 2nd St   \n",
       "1981839                            Harrison St at 20th St   \n",
       "1765235                             3rd St at Townsend St   \n",
       "462713                          5th St at San Salvador St   \n",
       "2273                        Shattuck Ave at Telegraph Ave   \n",
       "617538                               Folsom St at 19th St   \n",
       "1207797      Powell St BART Station (Market St at 4th St)   \n",
       "1934084  Montgomery St BART Station (Market St at 2nd St)   \n",
       "\n",
       "                         end_time rental_access_method  start_station_id  \\\n",
       "445062   2019-03-23 16:18:52.3290                  NaN             141.0   \n",
       "1571795  2019-08-21 22:22:12.4490                  NaN              75.0   \n",
       "140558   2019-01-10 19:00:45.8250                  NaN              90.0   \n",
       "1981839  2019-10-25 07:32:38.3560                  NaN             435.0   \n",
       "1765235  2019-09-24 08:25:25.8990                  NaN              15.0   \n",
       "462713   2019-03-21 10:58:37.6830                  NaN             299.0   \n",
       "2273     2019-01-31 18:19:51.5120                  NaN             176.0   \n",
       "617538   2019-03-03 15:25:23.4570                  NaN             136.0   \n",
       "1207797  2019-06-06 09:46:02.5450                  NaN             122.0   \n",
       "1934084  2019-10-31 17:29:11.6080                  NaN              25.0   \n",
       "\n",
       "         start_station_latitude  start_station_longitude  \\\n",
       "445062                37.747998              -122.420219   \n",
       "1571795               37.773793              -122.421239   \n",
       "140558                37.771058              -122.402717   \n",
       "1981839               37.729393              -122.386537   \n",
       "1765235               37.795392              -122.394203   \n",
       "462713                37.323678              -121.874119   \n",
       "2273                  37.828410              -122.266315   \n",
       "617538                37.754436              -122.404364   \n",
       "1207797               37.760299              -122.418892   \n",
       "1934084               37.786928              -122.398113   \n",
       "\n",
       "                                        start_station_name  \\\n",
       "445062                      Valencia St at Cesar Chavez St   \n",
       "1571795                           Market St at Franklin St   \n",
       "140558                               Townsend St at 7th St   \n",
       "1981839                          Jennings St at Revere Ave   \n",
       "1765235  San Francisco Ferry Building (Harry Bridges Pl...   \n",
       "462713                                     Bestor Art Park   \n",
       "2273                                MacArthur BART Station   \n",
       "617538                            23rd St at San Bruno Ave   \n",
       "1207797                              19th St at Mission St   \n",
       "1934084                                Howard St at 2nd St   \n",
       "\n",
       "                       start_time   user_type  \n",
       "445062   2019-03-23 15:54:32.2700    Customer  \n",
       "1571795  2019-08-21 22:09:40.3260  Subscriber  \n",
       "140558   2019-01-10 18:54:58.2420  Subscriber  \n",
       "1981839  2019-10-25 06:57:32.1870    Customer  \n",
       "1765235  2019-09-24 08:10:34.1580    Customer  \n",
       "462713   2019-03-21 10:50:48.2400  Subscriber  \n",
       "2273     2019-01-31 18:15:34.6310  Subscriber  \n",
       "617538   2019-03-03 15:18:23.4190    Customer  \n",
       "1207797  2019-06-06 09:30:29.9880  Subscriber  \n",
       "1934084  2019-10-31 17:27:22.4400  Subscriber  "
      ]
     },
     "execution_count": 6,
     "metadata": {},
     "output_type": "execute_result"
    }
   ],
   "source": [
    "df.sample(10)"
   ]
  },
  {
   "cell_type": "code",
   "execution_count": 7,
   "metadata": {},
   "outputs": [
    {
     "name": "stdout",
     "output_type": "stream",
     "text": [
      "<class 'pandas.core.frame.DataFrame'>\n",
      "RangeIndex: 2506983 entries, 0 to 2506982\n",
      "Data columns (total 15 columns):\n",
      "bike_id                    int64\n",
      "bike_share_for_all_trip    object\n",
      "duration_sec               int64\n",
      "end_station_id             float64\n",
      "end_station_latitude       float64\n",
      "end_station_longitude      float64\n",
      "end_station_name           object\n",
      "end_time                   object\n",
      "rental_access_method       object\n",
      "start_station_id           float64\n",
      "start_station_latitude     float64\n",
      "start_station_longitude    float64\n",
      "start_station_name         object\n",
      "start_time                 object\n",
      "user_type                  object\n",
      "dtypes: float64(6), int64(2), object(7)\n",
      "memory usage: 286.9+ MB\n"
     ]
    }
   ],
   "source": [
    "df.info()"
   ]
  },
  {
   "cell_type": "code",
   "execution_count": 8,
   "metadata": {},
   "outputs": [
    {
     "data": {
      "text/plain": [
       "bike_id                          0\n",
       "bike_share_for_all_trip     120838\n",
       "duration_sec                     0\n",
       "end_station_id               82902\n",
       "end_station_latitude             0\n",
       "end_station_longitude            0\n",
       "end_station_name             82350\n",
       "end_time                         0\n",
       "rental_access_method       2386145\n",
       "start_station_id             80734\n",
       "start_station_latitude           0\n",
       "start_station_longitude          0\n",
       "start_station_name           80133\n",
       "start_time                       0\n",
       "user_type                        0\n",
       "dtype: int64"
      ]
     },
     "execution_count": 8,
     "metadata": {},
     "output_type": "execute_result"
    }
   ],
   "source": [
    "df.isnull().sum()"
   ]
  },
  {
   "cell_type": "code",
   "execution_count": 9,
   "metadata": {},
   "outputs": [
    {
     "data": {
      "text/plain": [
       "0"
      ]
     },
     "execution_count": 9,
     "metadata": {},
     "output_type": "execute_result"
    }
   ],
   "source": [
    "df.duplicated().sum()"
   ]
  },
  {
   "cell_type": "code",
   "execution_count": 10,
   "metadata": {},
   "outputs": [
    {
     "data": {
      "text/plain": [
       "bike_id                          0\n",
       "bike_share_for_all_trip     120838\n",
       "duration_sec                     0\n",
       "end_station_id               82902\n",
       "end_station_latitude             0\n",
       "end_station_longitude            0\n",
       "end_station_name             82350\n",
       "end_time                         0\n",
       "rental_access_method       2386145\n",
       "start_station_id             80734\n",
       "start_station_latitude           0\n",
       "start_station_longitude          0\n",
       "start_station_name           80133\n",
       "start_time                       0\n",
       "user_type                        0\n",
       "dtype: int64"
      ]
     },
     "execution_count": 10,
     "metadata": {},
     "output_type": "execute_result"
    }
   ],
   "source": [
    "df.isna().sum()"
   ]
  },
  {
   "cell_type": "code",
   "execution_count": 11,
   "metadata": {},
   "outputs": [
    {
     "data": {
      "text/plain": [
       "app        108010\n",
       "clipper     12828\n",
       "Name: rental_access_method, dtype: int64"
      ]
     },
     "execution_count": 11,
     "metadata": {},
     "output_type": "execute_result"
    }
   ],
   "source": [
    "df[\"rental_access_method\"].value_counts()"
   ]
  },
  {
   "cell_type": "code",
   "execution_count": 12,
   "metadata": {},
   "outputs": [
    {
     "data": {
      "text/html": [
       "<div>\n",
       "<style scoped>\n",
       "    .dataframe tbody tr th:only-of-type {\n",
       "        vertical-align: middle;\n",
       "    }\n",
       "\n",
       "    .dataframe tbody tr th {\n",
       "        vertical-align: top;\n",
       "    }\n",
       "\n",
       "    .dataframe thead th {\n",
       "        text-align: right;\n",
       "    }\n",
       "</style>\n",
       "<table border=\"1\" class=\"dataframe\">\n",
       "  <thead>\n",
       "    <tr style=\"text-align: right;\">\n",
       "      <th></th>\n",
       "      <th>bike_id</th>\n",
       "      <th>duration_sec</th>\n",
       "      <th>end_station_id</th>\n",
       "      <th>end_station_latitude</th>\n",
       "      <th>end_station_longitude</th>\n",
       "      <th>start_station_id</th>\n",
       "      <th>start_station_latitude</th>\n",
       "      <th>start_station_longitude</th>\n",
       "    </tr>\n",
       "  </thead>\n",
       "  <tbody>\n",
       "    <tr>\n",
       "      <th>count</th>\n",
       "      <td>2.506983e+06</td>\n",
       "      <td>2.506983e+06</td>\n",
       "      <td>2.424081e+06</td>\n",
       "      <td>2.506983e+06</td>\n",
       "      <td>2.506983e+06</td>\n",
       "      <td>2.426249e+06</td>\n",
       "      <td>2.506983e+06</td>\n",
       "      <td>2.506983e+06</td>\n",
       "    </tr>\n",
       "    <tr>\n",
       "      <th>mean</th>\n",
       "      <td>2.789833e+04</td>\n",
       "      <td>8.076483e+02</td>\n",
       "      <td>1.427044e+02</td>\n",
       "      <td>3.776422e+01</td>\n",
       "      <td>-1.223459e+02</td>\n",
       "      <td>1.465047e+02</td>\n",
       "      <td>3.776506e+01</td>\n",
       "      <td>-1.223499e+02</td>\n",
       "    </tr>\n",
       "    <tr>\n",
       "      <th>std</th>\n",
       "      <td>1.146067e+05</td>\n",
       "      <td>1.974714e+03</td>\n",
       "      <td>1.214296e+02</td>\n",
       "      <td>2.392885e-01</td>\n",
       "      <td>7.080417e-01</td>\n",
       "      <td>1.223171e+02</td>\n",
       "      <td>1.363698e-01</td>\n",
       "      <td>3.089648e-01</td>\n",
       "    </tr>\n",
       "    <tr>\n",
       "      <th>min</th>\n",
       "      <td>4.000000e+00</td>\n",
       "      <td>6.000000e+01</td>\n",
       "      <td>3.000000e+00</td>\n",
       "      <td>0.000000e+00</td>\n",
       "      <td>-1.225143e+02</td>\n",
       "      <td>3.000000e+00</td>\n",
       "      <td>0.000000e+00</td>\n",
       "      <td>-1.225143e+02</td>\n",
       "    </tr>\n",
       "    <tr>\n",
       "      <th>25%</th>\n",
       "      <td>1.952000e+03</td>\n",
       "      <td>3.590000e+02</td>\n",
       "      <td>4.300000e+01</td>\n",
       "      <td>3.777003e+01</td>\n",
       "      <td>-1.224117e+02</td>\n",
       "      <td>4.700000e+01</td>\n",
       "      <td>3.776931e+01</td>\n",
       "      <td>-1.224130e+02</td>\n",
       "    </tr>\n",
       "    <tr>\n",
       "      <th>50%</th>\n",
       "      <td>4.420000e+03</td>\n",
       "      <td>5.710000e+02</td>\n",
       "      <td>1.010000e+02</td>\n",
       "      <td>3.778076e+01</td>\n",
       "      <td>-1.223981e+02</td>\n",
       "      <td>1.050000e+02</td>\n",
       "      <td>3.778053e+01</td>\n",
       "      <td>-1.223983e+02</td>\n",
       "    </tr>\n",
       "    <tr>\n",
       "      <th>75%</th>\n",
       "      <td>9.682000e+03</td>\n",
       "      <td>8.870000e+02</td>\n",
       "      <td>2.390000e+02</td>\n",
       "      <td>3.779587e+01</td>\n",
       "      <td>-1.222934e+02</td>\n",
       "      <td>2.430000e+02</td>\n",
       "      <td>3.779539e+01</td>\n",
       "      <td>-1.222914e+02</td>\n",
       "    </tr>\n",
       "    <tr>\n",
       "      <th>max</th>\n",
       "      <td>9.999410e+05</td>\n",
       "      <td>9.121100e+05</td>\n",
       "      <td>4.980000e+02</td>\n",
       "      <td>4.551000e+01</td>\n",
       "      <td>0.000000e+00</td>\n",
       "      <td>4.980000e+02</td>\n",
       "      <td>4.551000e+01</td>\n",
       "      <td>0.000000e+00</td>\n",
       "    </tr>\n",
       "  </tbody>\n",
       "</table>\n",
       "</div>"
      ],
      "text/plain": [
       "            bike_id  duration_sec  end_station_id  end_station_latitude  \\\n",
       "count  2.506983e+06  2.506983e+06    2.424081e+06          2.506983e+06   \n",
       "mean   2.789833e+04  8.076483e+02    1.427044e+02          3.776422e+01   \n",
       "std    1.146067e+05  1.974714e+03    1.214296e+02          2.392885e-01   \n",
       "min    4.000000e+00  6.000000e+01    3.000000e+00          0.000000e+00   \n",
       "25%    1.952000e+03  3.590000e+02    4.300000e+01          3.777003e+01   \n",
       "50%    4.420000e+03  5.710000e+02    1.010000e+02          3.778076e+01   \n",
       "75%    9.682000e+03  8.870000e+02    2.390000e+02          3.779587e+01   \n",
       "max    9.999410e+05  9.121100e+05    4.980000e+02          4.551000e+01   \n",
       "\n",
       "       end_station_longitude  start_station_id  start_station_latitude  \\\n",
       "count           2.506983e+06      2.426249e+06            2.506983e+06   \n",
       "mean           -1.223459e+02      1.465047e+02            3.776506e+01   \n",
       "std             7.080417e-01      1.223171e+02            1.363698e-01   \n",
       "min            -1.225143e+02      3.000000e+00            0.000000e+00   \n",
       "25%            -1.224117e+02      4.700000e+01            3.776931e+01   \n",
       "50%            -1.223981e+02      1.050000e+02            3.778053e+01   \n",
       "75%            -1.222934e+02      2.430000e+02            3.779539e+01   \n",
       "max             0.000000e+00      4.980000e+02            4.551000e+01   \n",
       "\n",
       "       start_station_longitude  \n",
       "count             2.506983e+06  \n",
       "mean             -1.223499e+02  \n",
       "std               3.089648e-01  \n",
       "min              -1.225143e+02  \n",
       "25%              -1.224130e+02  \n",
       "50%              -1.223983e+02  \n",
       "75%              -1.222914e+02  \n",
       "max               0.000000e+00  "
      ]
     },
     "execution_count": 12,
     "metadata": {},
     "output_type": "execute_result"
    }
   ],
   "source": [
    "df.describe()"
   ]
  },
  {
   "cell_type": "markdown",
   "metadata": {},
   "source": [
    "### Data Quality Issues"
   ]
  },
  {
   "cell_type": "markdown",
   "metadata": {},
   "source": [
    "<ol>\n",
    "    <li> Start and End time are object. They should be in a timestamp format.</li>\n",
    "    <li> Bike_id, end_station_id, start_station_id are either floats or ints. They should be objects. </li>\n",
    "    <li> Quite a few missing or null values throughout the dataset (bike_share_for_all_trip, end_station_id, end_station_name, rental_access_method, start_station_id, start_station_name)</li>\n",
    "</ol>"
   ]
  },
  {
   "cell_type": "markdown",
   "metadata": {},
   "source": [
    "### Data Tidiness Issues"
   ]
  },
  {
   "cell_type": "markdown",
   "metadata": {},
   "source": [
    "<ol>\n",
    "    <li> Not necessarily an issue but the duration is in seconds, which is not very informative so we will convert it.</li>\n",
    "</ol>"
   ]
  },
  {
   "cell_type": "code",
   "execution_count": 13,
   "metadata": {},
   "outputs": [],
   "source": [
    "# Making a copy before we start the cleaning process\n",
    "df_cleaned = df.copy()"
   ]
  },
  {
   "cell_type": "markdown",
   "metadata": {},
   "source": [
    "### Define\n",
    "<li> Start and End time are object. They should be in a timestamp format.</li>\n",
    "<li> For better analysis, it would be good to extract a month, weekday and hour from the timestamp </li>\n",
    "<li> Action: Converting start and endtime to timestamp using astype function. </li>"
   ]
  },
  {
   "cell_type": "markdown",
   "metadata": {},
   "source": [
    "### Clean"
   ]
  },
  {
   "cell_type": "code",
   "execution_count": 14,
   "metadata": {},
   "outputs": [],
   "source": [
    "# Converting start time and end time to datetime datatype\n",
    "df_cleaned['start_time'] = df_cleaned['start_time'].astype('datetime64')\n",
    "df_cleaned['end_time'] = df_cleaned['end_time'].astype('datetime64')\n",
    "\n",
    "# Extracting month start and end time\n",
    "df_cleaned['month_start_time'] = df_cleaned['start_time'].dt.strftime('%B')\n",
    "df_cleaned['month_end_time'] = df_cleaned['end_time'].dt.strftime('%B')\n",
    "\n",
    "# Extracting weekday start and end time\n",
    "df_cleaned['weekday_start_time'] = df_cleaned['start_time'].dt.strftime('%a')\n",
    "df_cleaned['weekday_end_time'] = df_cleaned['end_time'].dt.strftime('%a')\n",
    "\n",
    "# Extracting hour from start and end time\n",
    "df_cleaned['hour_start_time'] = df_cleaned['start_time'].dt.hour\n",
    "df_cleaned['hour_end_time'] = df_cleaned['end_time'].dt.hour"
   ]
  },
  {
   "cell_type": "markdown",
   "metadata": {},
   "source": [
    "### Test"
   ]
  },
  {
   "cell_type": "code",
   "execution_count": 15,
   "metadata": {},
   "outputs": [
    {
     "data": {
      "text/html": [
       "<div>\n",
       "<style scoped>\n",
       "    .dataframe tbody tr th:only-of-type {\n",
       "        vertical-align: middle;\n",
       "    }\n",
       "\n",
       "    .dataframe tbody tr th {\n",
       "        vertical-align: top;\n",
       "    }\n",
       "\n",
       "    .dataframe thead th {\n",
       "        text-align: right;\n",
       "    }\n",
       "</style>\n",
       "<table border=\"1\" class=\"dataframe\">\n",
       "  <thead>\n",
       "    <tr style=\"text-align: right;\">\n",
       "      <th></th>\n",
       "      <th>bike_id</th>\n",
       "      <th>bike_share_for_all_trip</th>\n",
       "      <th>duration_sec</th>\n",
       "      <th>end_station_id</th>\n",
       "      <th>end_station_latitude</th>\n",
       "      <th>end_station_longitude</th>\n",
       "      <th>end_station_name</th>\n",
       "      <th>end_time</th>\n",
       "      <th>rental_access_method</th>\n",
       "      <th>start_station_id</th>\n",
       "      <th>...</th>\n",
       "      <th>start_station_longitude</th>\n",
       "      <th>start_station_name</th>\n",
       "      <th>start_time</th>\n",
       "      <th>user_type</th>\n",
       "      <th>month_start_time</th>\n",
       "      <th>month_end_time</th>\n",
       "      <th>weekday_start_time</th>\n",
       "      <th>weekday_end_time</th>\n",
       "      <th>hour_start_time</th>\n",
       "      <th>hour_end_time</th>\n",
       "    </tr>\n",
       "  </thead>\n",
       "  <tbody>\n",
       "    <tr>\n",
       "      <th>0</th>\n",
       "      <td>4861</td>\n",
       "      <td>No</td>\n",
       "      <td>80825</td>\n",
       "      <td>196.0</td>\n",
       "      <td>37.808894</td>\n",
       "      <td>-122.256460</td>\n",
       "      <td>Grand Ave at Perkins St</td>\n",
       "      <td>2019-02-01 16:24:49.864</td>\n",
       "      <td>NaN</td>\n",
       "      <td>229.0</td>\n",
       "      <td>...</td>\n",
       "      <td>-122.213037</td>\n",
       "      <td>Foothill Blvd at 42nd Ave</td>\n",
       "      <td>2019-01-31 17:57:44.613</td>\n",
       "      <td>Subscriber</td>\n",
       "      <td>January</td>\n",
       "      <td>February</td>\n",
       "      <td>Thu</td>\n",
       "      <td>Fri</td>\n",
       "      <td>17</td>\n",
       "      <td>16</td>\n",
       "    </tr>\n",
       "    <tr>\n",
       "      <th>1</th>\n",
       "      <td>5506</td>\n",
       "      <td>No</td>\n",
       "      <td>65900</td>\n",
       "      <td>134.0</td>\n",
       "      <td>37.752428</td>\n",
       "      <td>-122.420628</td>\n",
       "      <td>Valencia St at 24th St</td>\n",
       "      <td>2019-02-01 15:16:54.173</td>\n",
       "      <td>NaN</td>\n",
       "      <td>4.0</td>\n",
       "      <td>...</td>\n",
       "      <td>-122.408915</td>\n",
       "      <td>Cyril Magnin St at Ellis St</td>\n",
       "      <td>2019-01-31 20:58:33.886</td>\n",
       "      <td>Subscriber</td>\n",
       "      <td>January</td>\n",
       "      <td>February</td>\n",
       "      <td>Thu</td>\n",
       "      <td>Fri</td>\n",
       "      <td>20</td>\n",
       "      <td>15</td>\n",
       "    </tr>\n",
       "    <tr>\n",
       "      <th>2</th>\n",
       "      <td>2717</td>\n",
       "      <td>No</td>\n",
       "      <td>62633</td>\n",
       "      <td>157.0</td>\n",
       "      <td>37.846784</td>\n",
       "      <td>-122.291376</td>\n",
       "      <td>65th St at Hollis St</td>\n",
       "      <td>2019-02-01 11:30:46.530</td>\n",
       "      <td>NaN</td>\n",
       "      <td>245.0</td>\n",
       "      <td>...</td>\n",
       "      <td>-122.268422</td>\n",
       "      <td>Downtown Berkeley BART</td>\n",
       "      <td>2019-01-31 18:06:52.924</td>\n",
       "      <td>Customer</td>\n",
       "      <td>January</td>\n",
       "      <td>February</td>\n",
       "      <td>Thu</td>\n",
       "      <td>Fri</td>\n",
       "      <td>18</td>\n",
       "      <td>11</td>\n",
       "    </tr>\n",
       "    <tr>\n",
       "      <th>3</th>\n",
       "      <td>4557</td>\n",
       "      <td>No</td>\n",
       "      <td>44680</td>\n",
       "      <td>53.0</td>\n",
       "      <td>37.775946</td>\n",
       "      <td>-122.437777</td>\n",
       "      <td>Grove St at Divisadero</td>\n",
       "      <td>2019-02-01 08:10:50.318</td>\n",
       "      <td>NaN</td>\n",
       "      <td>85.0</td>\n",
       "      <td>...</td>\n",
       "      <td>-122.429156</td>\n",
       "      <td>Church St at Duboce Ave</td>\n",
       "      <td>2019-01-31 19:46:09.719</td>\n",
       "      <td>Customer</td>\n",
       "      <td>January</td>\n",
       "      <td>February</td>\n",
       "      <td>Thu</td>\n",
       "      <td>Fri</td>\n",
       "      <td>19</td>\n",
       "      <td>8</td>\n",
       "    </tr>\n",
       "    <tr>\n",
       "      <th>4</th>\n",
       "      <td>2100</td>\n",
       "      <td>No</td>\n",
       "      <td>60709</td>\n",
       "      <td>28.0</td>\n",
       "      <td>37.787168</td>\n",
       "      <td>-122.388098</td>\n",
       "      <td>The Embarcadero at Bryant St</td>\n",
       "      <td>2019-02-01 07:10:51.065</td>\n",
       "      <td>NaN</td>\n",
       "      <td>16.0</td>\n",
       "      <td>...</td>\n",
       "      <td>-122.394430</td>\n",
       "      <td>Steuart St at Market St</td>\n",
       "      <td>2019-01-31 14:19:01.541</td>\n",
       "      <td>Customer</td>\n",
       "      <td>January</td>\n",
       "      <td>February</td>\n",
       "      <td>Thu</td>\n",
       "      <td>Fri</td>\n",
       "      <td>14</td>\n",
       "      <td>7</td>\n",
       "    </tr>\n",
       "  </tbody>\n",
       "</table>\n",
       "<p>5 rows × 21 columns</p>\n",
       "</div>"
      ],
      "text/plain": [
       "   bike_id bike_share_for_all_trip  duration_sec  end_station_id  \\\n",
       "0     4861                      No         80825           196.0   \n",
       "1     5506                      No         65900           134.0   \n",
       "2     2717                      No         62633           157.0   \n",
       "3     4557                      No         44680            53.0   \n",
       "4     2100                      No         60709            28.0   \n",
       "\n",
       "   end_station_latitude  end_station_longitude              end_station_name  \\\n",
       "0             37.808894            -122.256460       Grand Ave at Perkins St   \n",
       "1             37.752428            -122.420628        Valencia St at 24th St   \n",
       "2             37.846784            -122.291376          65th St at Hollis St   \n",
       "3             37.775946            -122.437777        Grove St at Divisadero   \n",
       "4             37.787168            -122.388098  The Embarcadero at Bryant St   \n",
       "\n",
       "                 end_time rental_access_method  start_station_id  \\\n",
       "0 2019-02-01 16:24:49.864                  NaN             229.0   \n",
       "1 2019-02-01 15:16:54.173                  NaN               4.0   \n",
       "2 2019-02-01 11:30:46.530                  NaN             245.0   \n",
       "3 2019-02-01 08:10:50.318                  NaN              85.0   \n",
       "4 2019-02-01 07:10:51.065                  NaN              16.0   \n",
       "\n",
       "       ...        start_station_longitude           start_station_name  \\\n",
       "0      ...                    -122.213037    Foothill Blvd at 42nd Ave   \n",
       "1      ...                    -122.408915  Cyril Magnin St at Ellis St   \n",
       "2      ...                    -122.268422       Downtown Berkeley BART   \n",
       "3      ...                    -122.429156      Church St at Duboce Ave   \n",
       "4      ...                    -122.394430      Steuart St at Market St   \n",
       "\n",
       "               start_time   user_type month_start_time month_end_time  \\\n",
       "0 2019-01-31 17:57:44.613  Subscriber          January       February   \n",
       "1 2019-01-31 20:58:33.886  Subscriber          January       February   \n",
       "2 2019-01-31 18:06:52.924    Customer          January       February   \n",
       "3 2019-01-31 19:46:09.719    Customer          January       February   \n",
       "4 2019-01-31 14:19:01.541    Customer          January       February   \n",
       "\n",
       "  weekday_start_time weekday_end_time hour_start_time  hour_end_time  \n",
       "0                Thu              Fri              17             16  \n",
       "1                Thu              Fri              20             15  \n",
       "2                Thu              Fri              18             11  \n",
       "3                Thu              Fri              19              8  \n",
       "4                Thu              Fri              14              7  \n",
       "\n",
       "[5 rows x 21 columns]"
      ]
     },
     "execution_count": 15,
     "metadata": {},
     "output_type": "execute_result"
    }
   ],
   "source": [
    "df_cleaned.head()"
   ]
  },
  {
   "cell_type": "code",
   "execution_count": 16,
   "metadata": {},
   "outputs": [
    {
     "name": "stdout",
     "output_type": "stream",
     "text": [
      "<class 'pandas.core.frame.DataFrame'>\n",
      "RangeIndex: 2506983 entries, 0 to 2506982\n",
      "Data columns (total 21 columns):\n",
      "bike_id                    int64\n",
      "bike_share_for_all_trip    object\n",
      "duration_sec               int64\n",
      "end_station_id             float64\n",
      "end_station_latitude       float64\n",
      "end_station_longitude      float64\n",
      "end_station_name           object\n",
      "end_time                   datetime64[ns]\n",
      "rental_access_method       object\n",
      "start_station_id           float64\n",
      "start_station_latitude     float64\n",
      "start_station_longitude    float64\n",
      "start_station_name         object\n",
      "start_time                 datetime64[ns]\n",
      "user_type                  object\n",
      "month_start_time           object\n",
      "month_end_time             object\n",
      "weekday_start_time         object\n",
      "weekday_end_time           object\n",
      "hour_start_time            int64\n",
      "hour_end_time              int64\n",
      "dtypes: datetime64[ns](2), float64(6), int64(4), object(9)\n",
      "memory usage: 401.7+ MB\n"
     ]
    }
   ],
   "source": [
    "df_cleaned.info()"
   ]
  },
  {
   "cell_type": "markdown",
   "metadata": {},
   "source": [
    "### Define\n",
    "<li> Issue: Bike_id, end_station_id, start_station_id are either floats or ints. They should be objects. </li>\n",
    "<li> Action: Converting them into object using astype function. </li>"
   ]
  },
  {
   "cell_type": "markdown",
   "metadata": {},
   "source": [
    "### Code"
   ]
  },
  {
   "cell_type": "code",
   "execution_count": 17,
   "metadata": {},
   "outputs": [],
   "source": [
    "# Converting bike_id, end_station_id and start_station_id to string format\n",
    "df_cleaned['bike_id'] = df_cleaned['bike_id'].astype(str)\n",
    "df_cleaned['end_station_id'] = df_cleaned['end_station_id'].astype(str)\n",
    "df_cleaned['start_station_id'] = df_cleaned['start_station_id'].astype(str);"
   ]
  },
  {
   "cell_type": "markdown",
   "metadata": {},
   "source": [
    "### Test"
   ]
  },
  {
   "cell_type": "code",
   "execution_count": 18,
   "metadata": {},
   "outputs": [
    {
     "name": "stdout",
     "output_type": "stream",
     "text": [
      "<class 'pandas.core.frame.DataFrame'>\n",
      "RangeIndex: 2506983 entries, 0 to 2506982\n",
      "Data columns (total 21 columns):\n",
      "bike_id                    object\n",
      "bike_share_for_all_trip    object\n",
      "duration_sec               int64\n",
      "end_station_id             object\n",
      "end_station_latitude       float64\n",
      "end_station_longitude      float64\n",
      "end_station_name           object\n",
      "end_time                   datetime64[ns]\n",
      "rental_access_method       object\n",
      "start_station_id           object\n",
      "start_station_latitude     float64\n",
      "start_station_longitude    float64\n",
      "start_station_name         object\n",
      "start_time                 datetime64[ns]\n",
      "user_type                  object\n",
      "month_start_time           object\n",
      "month_end_time             object\n",
      "weekday_start_time         object\n",
      "weekday_end_time           object\n",
      "hour_start_time            int64\n",
      "hour_end_time              int64\n",
      "dtypes: datetime64[ns](2), float64(4), int64(3), object(12)\n",
      "memory usage: 401.7+ MB\n"
     ]
    }
   ],
   "source": [
    "df_cleaned.info()"
   ]
  },
  {
   "cell_type": "markdown",
   "metadata": {},
   "source": [
    "### Define\n",
    "<li> Issue: Quite a few missing or null values throughout the dataset (bike_share_for_all_trip, end_station_id, end_station_name, rental_access_method, start_station_id, start_station_name)</li>\n",
    "<li> Action: Nothing for now. We will see if it impacts our analysis anyhow and fix it if needed.</li>    "
   ]
  },
  {
   "cell_type": "markdown",
   "metadata": {},
   "source": [
    "### Code"
   ]
  },
  {
   "cell_type": "markdown",
   "metadata": {},
   "source": [
    "### Test"
   ]
  },
  {
   "cell_type": "markdown",
   "metadata": {},
   "source": [
    "### Define\n",
    "<ol>\n",
    "    <li> Issue: Not necessarily a data quality issue but the duration is in seconds, which is not very informative so we will convert it.</li>\n",
    "    <li> Action: Convert the duration to minutes by dividing the number by 60. </li>\n",
    "</ol>"
   ]
  },
  {
   "cell_type": "markdown",
   "metadata": {},
   "source": [
    "### Code"
   ]
  },
  {
   "cell_type": "code",
   "execution_count": 19,
   "metadata": {},
   "outputs": [],
   "source": [
    "df_cleaned[\"duration_min\"] = df_cleaned[\"duration_sec\"] / 60\n",
    "df_cleaned[\"duration_min\"] = df_cleaned[\"duration_min\"].astype(int)"
   ]
  },
  {
   "cell_type": "markdown",
   "metadata": {},
   "source": [
    "### Test"
   ]
  },
  {
   "cell_type": "code",
   "execution_count": 20,
   "metadata": {},
   "outputs": [
    {
     "data": {
      "text/html": [
       "<div>\n",
       "<style scoped>\n",
       "    .dataframe tbody tr th:only-of-type {\n",
       "        vertical-align: middle;\n",
       "    }\n",
       "\n",
       "    .dataframe tbody tr th {\n",
       "        vertical-align: top;\n",
       "    }\n",
       "\n",
       "    .dataframe thead th {\n",
       "        text-align: right;\n",
       "    }\n",
       "</style>\n",
       "<table border=\"1\" class=\"dataframe\">\n",
       "  <thead>\n",
       "    <tr style=\"text-align: right;\">\n",
       "      <th></th>\n",
       "      <th>bike_id</th>\n",
       "      <th>bike_share_for_all_trip</th>\n",
       "      <th>duration_sec</th>\n",
       "      <th>end_station_id</th>\n",
       "      <th>end_station_latitude</th>\n",
       "      <th>end_station_longitude</th>\n",
       "      <th>end_station_name</th>\n",
       "      <th>end_time</th>\n",
       "      <th>rental_access_method</th>\n",
       "      <th>start_station_id</th>\n",
       "      <th>...</th>\n",
       "      <th>start_station_name</th>\n",
       "      <th>start_time</th>\n",
       "      <th>user_type</th>\n",
       "      <th>month_start_time</th>\n",
       "      <th>month_end_time</th>\n",
       "      <th>weekday_start_time</th>\n",
       "      <th>weekday_end_time</th>\n",
       "      <th>hour_start_time</th>\n",
       "      <th>hour_end_time</th>\n",
       "      <th>duration_min</th>\n",
       "    </tr>\n",
       "  </thead>\n",
       "  <tbody>\n",
       "    <tr>\n",
       "      <th>0</th>\n",
       "      <td>4861</td>\n",
       "      <td>No</td>\n",
       "      <td>80825</td>\n",
       "      <td>196.0</td>\n",
       "      <td>37.808894</td>\n",
       "      <td>-122.256460</td>\n",
       "      <td>Grand Ave at Perkins St</td>\n",
       "      <td>2019-02-01 16:24:49.864</td>\n",
       "      <td>NaN</td>\n",
       "      <td>229.0</td>\n",
       "      <td>...</td>\n",
       "      <td>Foothill Blvd at 42nd Ave</td>\n",
       "      <td>2019-01-31 17:57:44.613</td>\n",
       "      <td>Subscriber</td>\n",
       "      <td>January</td>\n",
       "      <td>February</td>\n",
       "      <td>Thu</td>\n",
       "      <td>Fri</td>\n",
       "      <td>17</td>\n",
       "      <td>16</td>\n",
       "      <td>1347</td>\n",
       "    </tr>\n",
       "    <tr>\n",
       "      <th>1</th>\n",
       "      <td>5506</td>\n",
       "      <td>No</td>\n",
       "      <td>65900</td>\n",
       "      <td>134.0</td>\n",
       "      <td>37.752428</td>\n",
       "      <td>-122.420628</td>\n",
       "      <td>Valencia St at 24th St</td>\n",
       "      <td>2019-02-01 15:16:54.173</td>\n",
       "      <td>NaN</td>\n",
       "      <td>4.0</td>\n",
       "      <td>...</td>\n",
       "      <td>Cyril Magnin St at Ellis St</td>\n",
       "      <td>2019-01-31 20:58:33.886</td>\n",
       "      <td>Subscriber</td>\n",
       "      <td>January</td>\n",
       "      <td>February</td>\n",
       "      <td>Thu</td>\n",
       "      <td>Fri</td>\n",
       "      <td>20</td>\n",
       "      <td>15</td>\n",
       "      <td>1098</td>\n",
       "    </tr>\n",
       "    <tr>\n",
       "      <th>2</th>\n",
       "      <td>2717</td>\n",
       "      <td>No</td>\n",
       "      <td>62633</td>\n",
       "      <td>157.0</td>\n",
       "      <td>37.846784</td>\n",
       "      <td>-122.291376</td>\n",
       "      <td>65th St at Hollis St</td>\n",
       "      <td>2019-02-01 11:30:46.530</td>\n",
       "      <td>NaN</td>\n",
       "      <td>245.0</td>\n",
       "      <td>...</td>\n",
       "      <td>Downtown Berkeley BART</td>\n",
       "      <td>2019-01-31 18:06:52.924</td>\n",
       "      <td>Customer</td>\n",
       "      <td>January</td>\n",
       "      <td>February</td>\n",
       "      <td>Thu</td>\n",
       "      <td>Fri</td>\n",
       "      <td>18</td>\n",
       "      <td>11</td>\n",
       "      <td>1043</td>\n",
       "    </tr>\n",
       "    <tr>\n",
       "      <th>3</th>\n",
       "      <td>4557</td>\n",
       "      <td>No</td>\n",
       "      <td>44680</td>\n",
       "      <td>53.0</td>\n",
       "      <td>37.775946</td>\n",
       "      <td>-122.437777</td>\n",
       "      <td>Grove St at Divisadero</td>\n",
       "      <td>2019-02-01 08:10:50.318</td>\n",
       "      <td>NaN</td>\n",
       "      <td>85.0</td>\n",
       "      <td>...</td>\n",
       "      <td>Church St at Duboce Ave</td>\n",
       "      <td>2019-01-31 19:46:09.719</td>\n",
       "      <td>Customer</td>\n",
       "      <td>January</td>\n",
       "      <td>February</td>\n",
       "      <td>Thu</td>\n",
       "      <td>Fri</td>\n",
       "      <td>19</td>\n",
       "      <td>8</td>\n",
       "      <td>744</td>\n",
       "    </tr>\n",
       "    <tr>\n",
       "      <th>4</th>\n",
       "      <td>2100</td>\n",
       "      <td>No</td>\n",
       "      <td>60709</td>\n",
       "      <td>28.0</td>\n",
       "      <td>37.787168</td>\n",
       "      <td>-122.388098</td>\n",
       "      <td>The Embarcadero at Bryant St</td>\n",
       "      <td>2019-02-01 07:10:51.065</td>\n",
       "      <td>NaN</td>\n",
       "      <td>16.0</td>\n",
       "      <td>...</td>\n",
       "      <td>Steuart St at Market St</td>\n",
       "      <td>2019-01-31 14:19:01.541</td>\n",
       "      <td>Customer</td>\n",
       "      <td>January</td>\n",
       "      <td>February</td>\n",
       "      <td>Thu</td>\n",
       "      <td>Fri</td>\n",
       "      <td>14</td>\n",
       "      <td>7</td>\n",
       "      <td>1011</td>\n",
       "    </tr>\n",
       "  </tbody>\n",
       "</table>\n",
       "<p>5 rows × 22 columns</p>\n",
       "</div>"
      ],
      "text/plain": [
       "  bike_id bike_share_for_all_trip  duration_sec end_station_id  \\\n",
       "0    4861                      No         80825          196.0   \n",
       "1    5506                      No         65900          134.0   \n",
       "2    2717                      No         62633          157.0   \n",
       "3    4557                      No         44680           53.0   \n",
       "4    2100                      No         60709           28.0   \n",
       "\n",
       "   end_station_latitude  end_station_longitude              end_station_name  \\\n",
       "0             37.808894            -122.256460       Grand Ave at Perkins St   \n",
       "1             37.752428            -122.420628        Valencia St at 24th St   \n",
       "2             37.846784            -122.291376          65th St at Hollis St   \n",
       "3             37.775946            -122.437777        Grove St at Divisadero   \n",
       "4             37.787168            -122.388098  The Embarcadero at Bryant St   \n",
       "\n",
       "                 end_time rental_access_method start_station_id      ...       \\\n",
       "0 2019-02-01 16:24:49.864                  NaN            229.0      ...        \n",
       "1 2019-02-01 15:16:54.173                  NaN              4.0      ...        \n",
       "2 2019-02-01 11:30:46.530                  NaN            245.0      ...        \n",
       "3 2019-02-01 08:10:50.318                  NaN             85.0      ...        \n",
       "4 2019-02-01 07:10:51.065                  NaN             16.0      ...        \n",
       "\n",
       "            start_station_name              start_time   user_type  \\\n",
       "0    Foothill Blvd at 42nd Ave 2019-01-31 17:57:44.613  Subscriber   \n",
       "1  Cyril Magnin St at Ellis St 2019-01-31 20:58:33.886  Subscriber   \n",
       "2       Downtown Berkeley BART 2019-01-31 18:06:52.924    Customer   \n",
       "3      Church St at Duboce Ave 2019-01-31 19:46:09.719    Customer   \n",
       "4      Steuart St at Market St 2019-01-31 14:19:01.541    Customer   \n",
       "\n",
       "  month_start_time month_end_time weekday_start_time weekday_end_time  \\\n",
       "0          January       February                Thu              Fri   \n",
       "1          January       February                Thu              Fri   \n",
       "2          January       February                Thu              Fri   \n",
       "3          January       February                Thu              Fri   \n",
       "4          January       February                Thu              Fri   \n",
       "\n",
       "  hour_start_time hour_end_time  duration_min  \n",
       "0              17            16          1347  \n",
       "1              20            15          1098  \n",
       "2              18            11          1043  \n",
       "3              19             8           744  \n",
       "4              14             7          1011  \n",
       "\n",
       "[5 rows x 22 columns]"
      ]
     },
     "execution_count": 20,
     "metadata": {},
     "output_type": "execute_result"
    }
   ],
   "source": [
    "df_cleaned.head()"
   ]
  },
  {
   "cell_type": "code",
   "execution_count": 21,
   "metadata": {},
   "outputs": [],
   "source": [
    "df_cleaned.to_csv('fordgobike2019_cleaned.csv', encoding = 'utf-8', index=False)"
   ]
  },
  {
   "cell_type": "markdown",
   "metadata": {},
   "source": [
    "## Univariate Exploration"
   ]
  },
  {
   "cell_type": "code",
   "execution_count": 22,
   "metadata": {},
   "outputs": [
    {
     "data": {
      "text/plain": [
       "Subscriber    2021166\n",
       "Customer       485817\n",
       "Name: user_type, dtype: int64"
      ]
     },
     "execution_count": 22,
     "metadata": {},
     "output_type": "execute_result"
    }
   ],
   "source": [
    "df_cleaned[\"user_type\"].value_counts()"
   ]
  },
  {
   "cell_type": "markdown",
   "metadata": {},
   "source": [
    "### 1. The bike trip distribution among each user type"
   ]
  },
  {
   "cell_type": "code",
   "execution_count": 38,
   "metadata": {},
   "outputs": [
    {
     "data": {
      "image/png": "[encoded data removed]",
      "text/plain": [
       "<Figure size 432x288 with 1 Axes>"
      ]
     },
     "metadata": {
      "needs_background": "light"
     },
     "output_type": "display_data"
    }
   ],
   "source": [
    "# Setting the color palette to blue\n",
    "base_color = sb.color_palette()[0]\n",
    "\n",
    "# Generating countplot using seaborn library\n",
    "user_type_plot = sb.countplot(data = df_cleaned, x = \"user_type\", color = base_color).set_title('Number of Bike Trips Per User Type', y = 1.05, fontsize = 16, fontweight = 'bold')\n",
    "plt.xlabel(\"User Type\", fontsize = 12, weight = \"bold\")\n",
    "plt.ylabel(\"Number of trips\", fontsize = 12, weight = \"bold\");"
   ]
  },
  {
   "cell_type": "markdown",
   "metadata": {},
   "source": [
    "### Comments \n",
    "The vast majority of the bike trips come from subscribers of the platform."
   ]
  },
  {
   "cell_type": "code",
   "execution_count": 39,
   "metadata": {},
   "outputs": [
    {
     "data": {
      "text/plain": [
       "No     2203584\n",
       "Yes     182561\n",
       "Name: bike_share_for_all_trip, dtype: int64"
      ]
     },
     "execution_count": 39,
     "metadata": {},
     "output_type": "execute_result"
    }
   ],
   "source": [
    "df_cleaned[\"bike_share_for_all_trip\"].value_counts()"
   ]
  },
  {
   "cell_type": "markdown",
   "metadata": {},
   "source": [
    "### 2. The bike trip distribution among each shared and unshared trips"
   ]
  },
  {
   "cell_type": "code",
   "execution_count": 40,
   "metadata": {},
   "outputs": [
    {
     "data": {
      "image/png": "[encoded data removed]",
      "text/plain": [
       "<Figure size 432x288 with 1 Axes>"
      ]
     },
     "metadata": {
      "needs_background": "light"
     },
     "output_type": "display_data"
    }
   ],
   "source": [
    "# Setting the color palette to blue\n",
    "base_color = sb.color_palette()[0]\n",
    "\n",
    "# Generating countplot using seaborn library\n",
    "shared_plot = sb.countplot(data = df_cleaned, x = 'bike_share_for_all_trip', color = base_color).set_title('Number of Unshared and Shared bike trips',  y = 1.05, fontsize = 16, fontweight = 'bold')\n",
    "plt.xlabel(\"Bike Share\", fontsize = 12, weight = \"bold\")\n",
    "plt.ylabel(\"Number of trips\", fontsize = 12, weight = \"bold\");"
   ]
  },
  {
   "cell_type": "markdown",
   "metadata": {},
   "source": [
    "### Comments \n",
    "The vast majority of the bike trips are not shared"
   ]
  },
  {
   "cell_type": "markdown",
   "metadata": {},
   "source": [
    "### 3. The bike trip distribution each month"
   ]
  },
  {
   "cell_type": "code",
   "execution_count": 41,
   "metadata": {},
   "outputs": [
    {
     "data": {
      "text/plain": [
       "July         258102\n",
       "March        256299\n",
       "October      239895\n",
       "April        239111\n",
       "September    217986\n",
       "August       210563\n",
       "January      192082\n",
       "June         191772\n",
       "November     185496\n",
       "February     183412\n",
       "May          182163\n",
       "December     150102\n",
       "Name: month_start_time, dtype: int64"
      ]
     },
     "execution_count": 41,
     "metadata": {},
     "output_type": "execute_result"
    }
   ],
   "source": [
    "df_cleaned[\"month_start_time\"].value_counts()"
   ]
  },
  {
   "cell_type": "code",
   "execution_count": 42,
   "metadata": {},
   "outputs": [
    {
     "data": {
      "image/png": "[encoded data removed]",
      "text/plain": [
       "<Figure size 468x360 with 1 Axes>"
      ]
     },
     "metadata": {
      "needs_background": "light"
     },
     "output_type": "display_data"
    }
   ],
   "source": [
    "# Setting the color palette to orange\n",
    "base_color = sb.color_palette()[1]\n",
    "\n",
    "# Generating catplot using seaborn\n",
    "monthly_usage = sb.catplot(data = df_cleaned, x = 'month_start_time', kind = 'count', color = base_color, aspect = 1.3)\n",
    "# Specifying labels and title\n",
    "plt.xlabel('Month', fontsize = 12, weight = \"bold\")\n",
    "plt.ylabel('Number of Bike Trips', fontsize = 12, weight = \"bold\")\n",
    "monthly_usage.fig.suptitle('Ford GoBike Usage by Month', y = 1.05, fontsize = 16, fontweight = 'bold')\n",
    "monthly_usage.set_xticklabels(rotation=75);"
   ]
  },
  {
   "cell_type": "markdown",
   "metadata": {},
   "source": [
    "### Comments\n",
    "July, March and October are the most busy months. Surprisingly, May is the second least busy month."
   ]
  },
  {
   "cell_type": "markdown",
   "metadata": {},
   "source": [
    "### 4. The bike trip distribution each weekday"
   ]
  },
  {
   "cell_type": "code",
   "execution_count": 47,
   "metadata": {},
   "outputs": [
    {
     "data": {
      "text/plain": [
       "Tue    427640\n",
       "Thu    424474\n",
       "Wed    414448\n",
       "Fri    397284\n",
       "Mon    396463\n",
       "Sat    234370\n",
       "Sun    212304\n",
       "Name: weekday_start_time, dtype: int64"
      ]
     },
     "execution_count": 47,
     "metadata": {},
     "output_type": "execute_result"
    }
   ],
   "source": [
    "df_cleaned[\"weekday_start_time\"].value_counts()"
   ]
  },
  {
   "cell_type": "code",
   "execution_count": 49,
   "metadata": {},
   "outputs": [
    {
     "data": {
      "image/png": "[encoded data removed]",
      "text/plain": [
       "<Figure size 468x360 with 1 Axes>"
      ]
     },
     "metadata": {
      "needs_background": "light"
     },
     "output_type": "display_data"
    }
   ],
   "source": [
    "# Setting the color palette to green and standardized plot size\n",
    "base_color = sb.color_palette()[2]\n",
    "\n",
    "# Creating weekday labels to have the chart ordered based on the weekday\n",
    "weekday_labels = ['Mon', 'Tue', 'Wed', 'Thu', 'Fri', 'Sat', 'Sun']\n",
    "# Using seaborn to generate catplot\n",
    "weekday_usage = sb.catplot(data = df_cleaned, y = 'weekday_start_time', kind = 'count', aspect = 1.3, color = base_color, order = weekday_labels);\n",
    "# Specifying labels and title\n",
    "plt.xlabel('Number of Bike Trips', fontsize = 12, weight = \"bold\")\n",
    "plt.ylabel('Weekday', fontsize = 12, weight = \"bold\")\n",
    "plt.title('Ford GoBike Usage by Weekday', y = 1.05, fontsize = 16, fontweight = 'bold')\n",
    "weekday_usage.set_xticklabels(rotation=75);"
   ]
  },
  {
   "cell_type": "markdown",
   "metadata": {},
   "source": [
    "### Comments\n",
    "Mid-week (Tue, Wed, Thu) are the busiest days. Weekends are the least busy days. "
   ]
  },
  {
   "cell_type": "markdown",
   "metadata": {},
   "source": [
    "### 5. The bike trip distribution each hour of the day"
   ]
  },
  {
   "cell_type": "code",
   "execution_count": 46,
   "metadata": {},
   "outputs": [
    {
     "data": {
      "text/plain": [
       "17    296831\n",
       "8     278632\n",
       "18    233587\n",
       "9     215877\n",
       "16    193253\n",
       "19    143924\n",
       "7     142099\n",
       "15    124925\n",
       "12    114164\n",
       "13    111727\n",
       "10    110032\n",
       "14    108157\n",
       "11    103194\n",
       "20     92283\n",
       "21     65063\n",
       "6      53574\n",
       "22     44412\n",
       "23     26393\n",
       "0      14686\n",
       "5      13479\n",
       "1       8788\n",
       "2       5682\n",
       "4       3442\n",
       "3       2779\n",
       "Name: hour_start_time, dtype: int64"
      ]
     },
     "execution_count": 46,
     "metadata": {},
     "output_type": "execute_result"
    }
   ],
   "source": [
    "df_cleaned[\"hour_start_time\"].value_counts()"
   ]
  },
  {
   "cell_type": "code",
   "execution_count": 45,
   "metadata": {},
   "outputs": [
    {
     "data": {
      "text/plain": [
       "<Figure size 1058.4x595.44 with 0 Axes>"
      ]
     },
     "metadata": {},
     "output_type": "display_data"
    },
    {
     "data": {
      "image/png": "[encoded data removed]",
      "text/plain": [
       "<Figure size 612x360 with 1 Axes>"
      ]
     },
     "metadata": {
      "needs_background": "light"
     },
     "output_type": "display_data"
    }
   ],
   "source": [
    "# Mixing up a color palette\n",
    "base_color = sb.color_palette()[3]\n",
    "\n",
    "# Generating catplot using seaborn\n",
    "hourly_usage = sb.catplot(data = df_cleaned, x='hour_start_time', kind='count', color = base_color, aspect = 1.7)\n",
    "# Creating associted lebals and titles\n",
    "plt.xlabel('Hours', fontsize = 12, weight = 'bold')\n",
    "plt.ylabel('Number of Bike Rides', fontsize = 12, weight = 'bold')\n",
    "hourly_usage.fig.suptitle('Ford GoBike System Usage by Hour', y=1.05, fontsize=16, fontweight='bold');"
   ]
  },
  {
   "cell_type": "markdown",
   "metadata": {},
   "source": [
    "### 6. A distribution of the bike trip duration in minutes"
   ]
  },
  {
   "cell_type": "code",
   "execution_count": 51,
   "metadata": {},
   "outputs": [
    {
     "data": {
      "text/plain": [
       "count    2.506983e+06\n",
       "mean     1.296946e+01\n",
       "std      3.291311e+01\n",
       "min      1.000000e+00\n",
       "25%      5.000000e+00\n",
       "50%      9.000000e+00\n",
       "75%      1.400000e+01\n",
       "max      1.520100e+04\n",
       "Name: duration_min, dtype: float64"
      ]
     },
     "execution_count": 51,
     "metadata": {},
     "output_type": "execute_result"
    }
   ],
   "source": [
    "df_cleaned[\"duration_min\"].describe()"
   ]
  },
  {
   "cell_type": "code",
   "execution_count": 55,
   "metadata": {},
   "outputs": [
    {
     "data": {
      "image/png": "[encoded data removed]",
      "text/plain": [
       "<Figure size 432x288 with 1 Axes>"
      ]
     },
     "metadata": {
      "needs_background": "light"
     },
     "output_type": "display_data"
    }
   ],
   "source": [
    "# Setting up bin edges\n",
    "bin_edges = np.arange(0, 50, 1)\n",
    "\n",
    "# Setting up my own ticks \n",
    "ticks = [0, 5, 10, 15, 20, 25, 30,  35, 40, 45]\n",
    "labels = ['{}'.format(val) for val in ticks]\n",
    "\n",
    "# Generating histogram using the bin edges set above\n",
    "plt.hist(data = df_cleaned, x = 'duration_min', bins = bin_edges, rwidth = 0.75)\n",
    "\n",
    "# Creating associated labels and titles\n",
    "plt.title(\"Ford GoBike System Trip Duration in Minutes\", y=1.05, fontsize=16, fontweight='bold')\n",
    "plt.xlabel('Duration (Min)', y = 1.05, fontsize = 12, fontweight = 'bold')\n",
    "plt.xticks(ticks, labels)\n",
    "plt.ylabel('Number of Bike Trips', fontsize = 12, fontweight = 'bold');"
   ]
  },
  {
   "cell_type": "markdown",
   "metadata": {},
   "source": [
    "### Comments\n",
    "Right-skewed distribution. The average trip duration is around 12.9 minutes. 75% of the trips are below 14 minutes. \n",
    "The shortest trip took 1 minute and the longest one 15201 minutes"
   ]
  },
  {
   "cell_type": "markdown",
   "metadata": {},
   "source": [
    "## Bivariate Exploration"
   ]
  },
  {
   "cell_type": "markdown",
   "metadata": {},
   "source": [
    "### 1. Trip duration (minutes) between different user types"
   ]
  },
  {
   "cell_type": "code",
   "execution_count": 61,
   "metadata": {},
   "outputs": [
    {
     "data": {
      "image/png": "[encoded data removed]",
      "text/plain": [
       "<Figure size 720x360 with 2 Axes>"
      ]
     },
     "metadata": {
      "needs_background": "light"
     },
     "output_type": "display_data"
    }
   ],
   "source": [
    "# Creating a reasonable duration subset ignoring extreme outliers \n",
    "subset_duration = df_cleaned.query(\"duration_min < 35\")\n",
    "\n",
    "# Generating two side by side box plots\n",
    "duration_by_user_type = sb.catplot(data=subset_duration, y='duration_min', col=\"user_type\", kind='box')\n",
    "\n",
    "# Generating labels and titles\n",
    "duration_by_user_type.set_titles(col_template = '{col_name}')\n",
    "duration_by_user_type.set_axis_labels(\"\", \"Duration (Min)\")\n",
    "duration_by_user_type.fig.suptitle('Ford Go Bike System - Duration (Min) by User Type', y=1.05, fontsize=16, fontweight='bold');"
   ]
  },
  {
   "cell_type": "markdown",
   "metadata": {},
   "source": [
    "### Comments\n",
    "Subscribers tend to take shorter trips than customers with lower average duration and lower quartiles overall."
   ]
  },
  {
   "cell_type": "markdown",
   "metadata": {},
   "source": [
    "### 2. Trip duration (minutes) between bikesharing"
   ]
  },
  {
   "cell_type": "code",
   "execution_count": 62,
   "metadata": {},
   "outputs": [
    {
     "data": {
      "image/png": "[encoded data removed]",
      "text/plain": [
       "<Figure size 720x360 with 2 Axes>"
      ]
     },
     "metadata": {
      "needs_background": "light"
     },
     "output_type": "display_data"
    }
   ],
   "source": [
    "# Creating two side by side boxplots for bike share \n",
    "duration_by_bike_share = sb.catplot(data=subset_duration, y='duration_min', col=\"bike_share_for_all_trip\", kind='box')\n",
    "\n",
    "# Setting up titles and labels\n",
    "duration_by_bike_share.set_titles(col_template = '{col_name}')\n",
    "duration_by_bike_share.set_axis_labels(\"\", \"Duration (Min)\")\n",
    "duration_by_bike_share.fig.suptitle('Ford Go Bike System - Duration (Min) by Bike Share', y=1.05, fontsize=16, fontweight='bold');"
   ]
  },
  {
   "cell_type": "markdown",
   "metadata": {},
   "source": [
    "### Comments\n",
    "Bike sharers had shorter trips on average with all the quartiles lower overall."
   ]
  },
  {
   "cell_type": "markdown",
   "metadata": {},
   "source": [
    "### 3. Month by month usage, Customer vs Subscriber"
   ]
  },
  {
   "cell_type": "code",
   "execution_count": 63,
   "metadata": {},
   "outputs": [
    {
     "data": {
      "image/png": "[encoded data removed]",
      "text/plain": [
       "<Figure size 720x360 with 2 Axes>"
      ]
     },
     "metadata": {
      "needs_background": "light"
     },
     "output_type": "display_data"
    }
   ],
   "source": [
    "base_color = sb.color_palette()[3]\n",
    "user_type_by_month = sb.catplot(data=df_cleaned, x='month_start_time', col=\"user_type\", kind='count', sharey = True, color = base_color);\n",
    "\n",
    "user_type_by_month.set_axis_labels(\"\", \"Number of Bike Trips\");\n",
    "user_type_by_month.set_titles(\"{col_name}\");\n",
    "\n",
    "user_type_by_month.fig.suptitle('Month by Month bike trips breakdown: Customers vs. Subscribers', y=1.05, fontsize=16, fontweight='bold');\n",
    "user_type_by_month.set_xticklabels(rotation=75);"
   ]
  },
  {
   "cell_type": "markdown",
   "metadata": {},
   "source": [
    "### Comments\n",
    "March, April and July are the most in demand months for Subscribers and\n",
    "surprisingly, December, October and September are the most in demand months for Customers"
   ]
  },
  {
   "cell_type": "markdown",
   "metadata": {},
   "source": [
    "## Multivariate Exploration"
   ]
  },
  {
   "cell_type": "markdown",
   "metadata": {},
   "source": [
    "### 1. Analyzing weekday trip duration by user type"
   ]
  },
  {
   "cell_type": "code",
   "execution_count": 67,
   "metadata": {},
   "outputs": [
    {
     "data": {
      "text/plain": [
       "Text(0.5, 1.05, 'Weekday trip duration by user type')"
      ]
     },
     "execution_count": 67,
     "metadata": {},
     "output_type": "execute_result"
    },
    {
     "data": {
      "image/png": "[encoded data removed]",
      "text/plain": [
       "<Figure size 432x288 with 1 Axes>"
      ]
     },
     "metadata": {
      "needs_background": "light"
     },
     "output_type": "display_data"
    }
   ],
   "source": [
    "# Generating pointplot and assigning x,y and z(hue) variable\n",
    "weekday_dur_per_user_type = sb.barplot(data = df_cleaned, x = 'weekday_start_time', y = 'duration_min', hue = 'user_type',\n",
    "                  dodge = 0.3, order = ['Mon', 'Tue', 'Wed', 'Thu', 'Fri', 'Sat', 'Sun'])\n",
    "\n",
    "# Setting up labels and titles\n",
    "plt.xlabel(\"Weekday\", y = 1.05, fontsize = 12, fontweight = 'bold')\n",
    "plt.ylabel(\"Duration (min)\", fontsize = 12, fontweight = 'bold')\n",
    "plt.title(\"Weekday trip duration by user type\", y=1.05, fontsize=16, fontweight=\"bold\")"
   ]
  },
  {
   "cell_type": "markdown",
   "metadata": {},
   "source": [
    "### Comments\n",
    "The longest trips happen during the weekend for both user types\n",
    "The shortest trip for customers happen on Wednesday and Tuesday for both user types"
   ]
  },
  {
   "cell_type": "markdown",
   "metadata": {},
   "source": [
    "### 2. Analyzing hour by hour trip duration by user type"
   ]
  },
  {
   "cell_type": "code",
   "execution_count": 73,
   "metadata": {},
   "outputs": [
    {
     "data": {
      "text/plain": [
       "Text(0.5, 1.05, 'Hour by hour trip duration by user type')"
      ]
     },
     "execution_count": 73,
     "metadata": {},
     "output_type": "execute_result"
    },
    {
     "data": {
      "image/png": "[encoded data removed]",
      "text/plain": [
       "<Figure size 432x288 with 1 Axes>"
      ]
     },
     "metadata": {
      "needs_background": "light"
     },
     "output_type": "display_data"
    }
   ],
   "source": [
    "# Generating pointplot and assigning x,y and z(hue) variables\n",
    "hour_dur_per_user_type = sb.barplot(data = df_cleaned, x = 'hour_start_time', y = 'duration_min', hue = 'user_type', \n",
    "                                      dodge = 0.3)\n",
    "\n",
    "# Setting up labels and titles\n",
    "plt.xlabel(\"Hour\", y = 1.05, fontsize = 12, fontweight = 'bold')\n",
    "plt.ylabel(\"Duration (min)\", fontsize = 12, fontweight = 'bold')\n",
    "plt.legend(bbox_to_anchor=(1, 0.5), title=\"User Type\", title_fontsize = 12);\n",
    "plt.title(\"Hour by hour trip duration by user type\", y=1.05, fontsize=16, fontweight=\"bold\")"
   ]
  },
  {
   "cell_type": "markdown",
   "metadata": {},
   "source": [
    "### Comments\n",
    "For both subscribers and customers, the longest trips happen during night hours between 1 and 4 AM (maybe people biking drunk? :D)."
   ]
  },
  {
   "cell_type": "markdown",
   "metadata": {},
   "source": [
    "### 3. Trip duration per user type and bikeshare"
   ]
  },
  {
   "cell_type": "code",
   "execution_count": 70,
   "metadata": {},
   "outputs": [
    {
     "data": {
      "text/plain": [
       "Text(0.5, 1.05, 'Trip duration by user type and bikeshare')"
      ]
     },
     "execution_count": 70,
     "metadata": {},
     "output_type": "execute_result"
    },
    {
     "data": {
      "image/png": "[encoded data removed]",
      "text/plain": [
       "<Figure size 432x288 with 1 Axes>"
      ]
     },
     "metadata": {
      "needs_background": "light"
     },
     "output_type": "display_data"
    }
   ],
   "source": [
    "# Using seaborn to generate barplot\n",
    "dur_per_usertype_and_bikeshare = sb.barplot(data = df_cleaned, x = 'user_type', y = 'duration_min', hue = 'bike_share_for_all_trip')\n",
    "\n",
    "# Adding a legend and put it into the midle\n",
    "dur_per_usertype_and_bikeshare.legend(loc = 8, ncol = 3, framealpha = 1, title = 'Bike Share')\n",
    "\n",
    "# Adding labels and title\n",
    "plt.xlabel(\"User type\", y = 1.05, fontsize = 12, fontweight = 'bold' )\n",
    "plt.ylabel(\"Duration (min)\", fontsize = 12, fontweight = 'bold')\n",
    "plt.title(\"Trip duration by user type and bikeshare\", y=1.05, fontsize=16, fontweight=\"bold\")"
   ]
  },
  {
   "cell_type": "markdown",
   "metadata": {},
   "source": [
    "### Comments\n",
    "For subscribers, the trip duration is more or less the same for bike sharers and non-bike sharers\n",
    "Customers don´t bike share at all"
   ]
  },
  {
   "cell_type": "markdown",
   "metadata": {},
   "source": [
    "### 4. Weekday bike trips by User Type"
   ]
  },
  {
   "cell_type": "code",
   "execution_count": 76,
   "metadata": {},
   "outputs": [
    {
     "data": {
      "text/plain": [
       "Text(0.5, 1.05, 'Weekday bike trips by User Type')"
      ]
     },
     "execution_count": 76,
     "metadata": {},
     "output_type": "execute_result"
    },
    {
     "data": {
      "image/png": "[encoded data removed]",
      "text/plain": [
       "<Figure size 432x288 with 1 Axes>"
      ]
     },
     "metadata": {
      "needs_background": "light"
     },
     "output_type": "display_data"
    }
   ],
   "source": [
    "# Generating seaborn countplot with a nice palette\n",
    "weekly_bike_trips_by_user = sb.countplot(data = df_cleaned, x = 'weekday_start_time', hue = 'user_type', palette = 'Set3',\n",
    "                                        order = ['Mon', 'Tue', 'Wed', 'Thu', 'Fri', 'Sat', 'Sun'])\n",
    "\n",
    "# Adding labels and title\n",
    "plt.xlabel(\"Weekday\", y = 1.05, fontsize = 12, fontweight = 'bold')\n",
    "plt.ylabel(\"Bike Trips\", fontsize = 12, fontweight = 'bold')\n",
    "plt.legend(bbox_to_anchor=(1, 0.5), title=\"User Type\", title_fontsize = 12);\n",
    "plt.title(\"Weekday bike trips by User Type\", y=1.05, fontsize=16, fontweight=\"bold\")"
   ]
  },
  {
   "cell_type": "markdown",
   "metadata": {},
   "source": [
    "### Comments\n",
    "For both user types, the most weekend bike trips happen during the weekdays and the least during the weekends"
   ]
  },
  {
   "cell_type": "markdown",
   "metadata": {},
   "source": [
    "### 5. Hour by hour bike trips by User Type"
   ]
  },
  {
   "cell_type": "code",
   "execution_count": 75,
   "metadata": {},
   "outputs": [
    {
     "data": {
      "text/plain": [
       "Text(0.5, 1.05, 'Hour by hour bike trips by User Type')"
      ]
     },
     "execution_count": 75,
     "metadata": {},
     "output_type": "execute_result"
    },
    {
     "data": {
      "image/png": "[encoded data removed]",
      "text/plain": [
       "<Figure size 432x288 with 1 Axes>"
      ]
     },
     "metadata": {
      "needs_background": "light"
     },
     "output_type": "display_data"
    }
   ],
   "source": [
    "# Generating seaborn countplot\n",
    "hourly_bike_trips_by_user = sb.countplot(data = df_cleaned, x = 'hour_start_time', hue = 'user_type', palette = 'Set3')\n",
    "\n",
    "# Adding labels and title\n",
    "plt.xlabel(\"Hour\", y = 1.05, fontsize = 12, fontweight = 'bold')\n",
    "plt.ylabel(\"Bike Trips\", fontsize = 12, fontweight = 'bold')\n",
    "plt.legend(bbox_to_anchor=(1, 0.5), title=\"User Type\", title_fontsize = 12);\n",
    "plt.title(\"Hour by hour bike trips by User Type\", y=1.05, fontsize=16, fontweight=\"bold\")"
   ]
  },
  {
   "cell_type": "markdown",
   "metadata": {},
   "source": [
    "### Comments\n",
    "The most bike trips for both user types happen around 8 am and 5 pm, reflecting the typical workday commuting times perfectly"
   ]
  },
  {
   "cell_type": "markdown",
   "metadata": {},
   "source": [
    "## Summary\n",
    "There are two primarily users with distinct behaviors:\n",
    "<li> Subscribers. Who exhibit a behavior of daily commuters, using this service primarily for commuting from and to work as a solid substitute to the public transporation or cars. </li>\n",
    "<li> Customers. Who exhibit a behavior of visitors or tourists, using this service throughout the day to Explore the hidden gems of San Francisco and Bay Area.  </li>\n"
   ]
  },
  {
   "cell_type": "markdown",
   "metadata": {},
   "source": [
    "### Sources\n",
    "<ol>\n",
    "    <li>Dataset: https://www.lyft.com/bikes/bay-wheels/system-data </li>\n",
    "    <li>Seaborn documentation: https://seaborn.pydata.org/ </li>\n",
    "    <li>Matplotlib documentation: https://matplotlib.org/3.2.0/contents.html </li>\n",
    "    <li>Plotting: https://medium.com/@purnasaigudikandula/exploratory-data-analysis-beginner-univariate-bivariate-and-multivariate-habberman-dataset-2365264b751 </li>\n",
    "    <li>Plotting: https://www.machinelearningplus.com/plots/top-50-matplotlib-visualizations-the-master-plots-python</li>\n",
    "    <li> Converting notebooks to slides: https://medium.com/@mjspeck/presenting-code-using-jupyter-notebook-slides-a8a3c3b59d67</li>\n",
    "    <li> Converting notebooks to slides: https://stackoverflow.com/questions/53186944/accommodating-large-slides-in-jupyter-presentation</li>\n",
    "    </ol>"
   ]
  },
  {
   "cell_type": "code",
   "execution_count": null,
   "metadata": {},
   "outputs": [],
   "source": []
  }
 ],
 "metadata": {
  "kernelspec": {
   "display_name": "Python 3",
   "language": "python",
   "name": "python3"
  },
  "language_info": {
   "codemirror_mode": {
    "name": "ipython",
    "version": 3
   },
   "file_extension": ".py",
   "mimetype": "text/x-python",
   "name": "python",
   "nbconvert_exporter": "python",
   "pygments_lexer": "ipython3",
   "version": "3.7.1"
  }
 },
 "nbformat": 4,
 "nbformat_minor": 2
}
